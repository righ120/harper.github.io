{
  "nbformat": 4,
  "nbformat_minor": 0,
  "metadata": {
    "colab": {
      "name": "1.1 파이썬 카드 한벌.ipynb",
      "version": "0.3.2",
      "provenance": [],
      "include_colab_link": true
    },
    "kernelspec": {
      "name": "python3",
      "display_name": "Python 3"
    }
  },
  "cells": [
    {
      "cell_type": "markdown",
      "metadata": {
        "id": "view-in-github",
        "colab_type": "text"
      },
      "source": [
        "<a href=\"https://colab.research.google.com/github/righ120/righ120.github.io/blob/master/1_1_%ED%8C%8C%EC%9D%B4%EC%8D%AC_%EC%B9%B4%EB%93%9C_%ED%95%9C%EB%B2%8C.ipynb\" target=\"_parent\"><img src=\"https://colab.research.google.com/assets/colab-badge.svg\" alt=\"Open In Colab\"/></a>"
      ]
    },
    {
      "cell_type": "markdown",
      "metadata": {
        "id": "tiHrBZ3DLyn2",
        "colab_type": "text"
      },
      "source": [
        "# Ch 1. 파이썬 데이터 모델\n",
        "\n",
        "## 1.1 파이썬 카드 한벌"
      ]
    },
    {
      "cell_type": "code",
      "metadata": {
        "id": "_MkLcCHFEFYa",
        "colab_type": "code",
        "colab": {}
      },
      "source": [
        "import collections\n",
        "\n",
        "Card = collections.namedtuple('Card',['rank', 'suit'])"
      ],
      "execution_count": 0,
      "outputs": []
    },
    {
      "cell_type": "markdown",
      "metadata": {
        "id": "Y5bLJfyQEPSR",
        "colab_type": "text"
      },
      "source": [
        "<b>namedtuple</b>을 이용해서 멤버 변수로만 구성된 클래스를 만들 수 있다.\n",
        "\n",
        "위의 구문\n",
        "\n",
        "<pre>Card = collections.namedtuple('Card',['rank', 'suit'])</pre>\n",
        "\n",
        "은 아래와 같은 구문이다.\n",
        "\n",
        "<pre>\n",
        "class Card:\n",
        "  def __init__(self, rank, suit):\n",
        "    self.rank = rank\n",
        "    self.suit = suit\n",
        "  </pre>\n",
        "  \n",
        "  따라서 아래 코드 처럼 beer_card 객체를 선언할 수 있다.\n",
        "  "
      ]
    },
    {
      "cell_type": "code",
      "metadata": {
        "id": "k3y1askvD5hH",
        "colab_type": "code",
        "outputId": "e6ecbc90-39a5-4814-d2d5-b58335a8813f",
        "colab": {
          "base_uri": "https://localhost:8080/",
          "height": 34
        }
      },
      "source": [
        "beer_card = Card('7', 'diamonds')\n",
        "beer_card"
      ],
      "execution_count": 0,
      "outputs": [
        {
          "output_type": "execute_result",
          "data": {
            "text/plain": [
              "Card(rank='7', suit='diamonds')"
            ]
          },
          "metadata": {
            "tags": []
          },
          "execution_count": 3
        }
      ]
    },
    {
      "cell_type": "markdown",
      "metadata": {
        "id": "P17G7I43GcnY",
        "colab_type": "text"
      },
      "source": [
        "위의 <b>namedtuple</b>을 활용하여 FrenchDeck class를 구성할 수 있다. 이 코드는 카드 놀이에 사용할 카드 한 벌을 나타내는 클래스이다."
      ]
    },
    {
      "cell_type": "code",
      "metadata": {
        "id": "FqLouSgdDJdq",
        "colab_type": "code",
        "colab": {}
      },
      "source": [
        "class FrenchDeck:\n",
        "    ranks = [str(n) for n in range(2, 11)] + list('JQKA')\n",
        "    suits = 'spades diamonds clubs hearts'.split()\n",
        "    \n",
        "    def __init__(self):\n",
        "      self._cards = [Card(rank, suit) for suit in self.suits\n",
        "                                      for rank in self.ranks]\n",
        "      \n",
        "    def __len__(self):\n",
        "      return len(self._cards)\n",
        "    \n",
        "    def __getitem__(self, position):\n",
        "      return self._cards[position]\n",
        "    "
      ],
      "execution_count": 0,
      "outputs": []
    },
    {
      "cell_type": "markdown",
      "metadata": {
        "id": "KCQ3AcSBG3fy",
        "colab_type": "text"
      },
      "source": [
        "간단한 클래스이지만 파이썬 인터페이스의 힘을 빌려 다양한 기능을 구현할 수 있다."
      ]
    },
    {
      "cell_type": "code",
      "metadata": {
        "id": "N4OVxaaXD-Wx",
        "colab_type": "code",
        "outputId": "7f985235-eb4c-4ee0-938f-cbe674fd7f20",
        "colab": {
          "base_uri": "https://localhost:8080/",
          "height": 70
        }
      },
      "source": [
        "deck = FrenchDeck()\n",
        "\n",
        "# __len__() 메서드 호출\n",
        "print(len(deck))\n",
        "\n",
        "# __getitem__() 메서드 호출\n",
        "print(deck[0])\n",
        "print(deck[-1])"
      ],
      "execution_count": 0,
      "outputs": [
        {
          "output_type": "stream",
          "text": [
            "52\n",
            "Card(rank='2', suit='spades')\n",
            "Card(rank='A', suit='hearts')\n"
          ],
          "name": "stdout"
        }
      ]
    },
    {
      "cell_type": "markdown",
      "metadata": {
        "id": "7b46bpE1IKvw",
        "colab_type": "text"
      },
      "source": [
        "또한, 파이썬 표준 라이브러리에서 제공하는 풍부한 기능을 별도로 구현할 필요 없이 사용할 수 있다.\n"
      ]
    },
    {
      "cell_type": "code",
      "metadata": {
        "id": "A9tHSrBRIS8N",
        "colab_type": "code",
        "outputId": "a7667c04-fef9-4d44-97e9-9bf463b7a3cf",
        "colab": {
          "base_uri": "https://localhost:8080/",
          "height": 70
        }
      },
      "source": [
        "from random import choice\n",
        "print(choice(deck))\n",
        "print(choice(deck))\n",
        "print(choice(deck))"
      ],
      "execution_count": 0,
      "outputs": [
        {
          "output_type": "stream",
          "text": [
            "Card(rank='8', suit='hearts')\n",
            "Card(rank='3', suit='clubs')\n",
            "Card(rank='4', suit='clubs')\n"
          ],
          "name": "stdout"
        }
      ]
    },
    {
      "cell_type": "markdown",
      "metadata": {
        "id": "oORdRG0XJEzW",
        "colab_type": "text"
      },
      "source": [
        "<code>__getitem__()</code> 메서드는 <code>self._cards</code>의 <code>[]</code> 연산자에 작업을 위임하므로,\n",
        "슬라이싱(slicing) 및 객체를 반복할 수 있다. "
      ]
    },
    {
      "cell_type": "code",
      "metadata": {
        "id": "VbvfJONRJDDn",
        "colab_type": "code",
        "outputId": "a55f44b2-d823-4573-d6da-8bd5d36ef6cd",
        "colab": {
          "base_uri": "https://localhost:8080/",
          "height": 140
        }
      },
      "source": [
        "print(\"앞의 카드 세장 가져오기\")\n",
        "print(deck[:3])\n",
        "\n",
        "print(\"13개씩 건너 뛰어 에이스만 가져오기\")\n",
        "print(deck[12::13])\n",
        "\n",
        "# print(\"deck 반복하기\")\n",
        "# for card in deck:\n",
        "#   print(card)\n",
        "  \n",
        "# print(\"deck 거꾸로 반복하기\")\n",
        "# for card in reversed(deck):\n",
        "#   print(card)\n",
        "\n",
        "print(\"반복이 암묵적으로 수행되는 경우\")\n",
        "print(Card('Q', 'hearts') in deck)\n",
        "print(Card('7', 'beasts') in deck)"
      ],
      "execution_count": 0,
      "outputs": [
        {
          "output_type": "stream",
          "text": [
            "앞의 카드 세장 가져오기\n",
            "[Card(rank='2', suit='spades'), Card(rank='3', suit='spades'), Card(rank='4', suit='spades')]\n",
            "13개씩 건너 뛰어 에이스만 가져오기\n",
            "[Card(rank='A', suit='spades'), Card(rank='A', suit='diamonds'), Card(rank='A', suit='clubs'), Card(rank='A', suit='hearts')]\n",
            "반복이 암묵적으로 수행되는 경우\n",
            "True\n",
            "False\n"
          ],
          "name": "stdout"
        }
      ]
    },
    {
      "cell_type": "markdown",
      "metadata": {
        "id": "qKBmuSpONwf5",
        "colab_type": "text"
      },
      "source": [
        "비슷하게 key 함수를 사용하여 정렬도 가능하다\n"
      ]
    },
    {
      "cell_type": "code",
      "metadata": {
        "id": "mpT38O4oQOdJ",
        "colab_type": "code",
        "outputId": "e371cd3c-aa06-44c3-b5dc-ff53834805a5",
        "colab": {
          "base_uri": "https://localhost:8080/",
          "height": 932
        }
      },
      "source": [
        "suit_values = dict(spades=3, hearts=2, diamonds=1, clubs=0)\n",
        "\n",
        "def spades_high(card):\n",
        "  rank_value = FrenchDeck.ranks.index(card.rank)\n",
        "  return rank_value * len(suit_values) + suit_values[card.suit]\n",
        "\n",
        "for card in sorted(deck, key=spades_high):\n",
        "  print(card)"
      ],
      "execution_count": 0,
      "outputs": [
        {
          "output_type": "stream",
          "text": [
            "Card(rank='2', suit='clubs')\n",
            "Card(rank='2', suit='diamonds')\n",
            "Card(rank='2', suit='hearts')\n",
            "Card(rank='2', suit='spades')\n",
            "Card(rank='3', suit='clubs')\n",
            "Card(rank='3', suit='diamonds')\n",
            "Card(rank='3', suit='hearts')\n",
            "Card(rank='3', suit='spades')\n",
            "Card(rank='4', suit='clubs')\n",
            "Card(rank='4', suit='diamonds')\n",
            "Card(rank='4', suit='hearts')\n",
            "Card(rank='4', suit='spades')\n",
            "Card(rank='5', suit='clubs')\n",
            "Card(rank='5', suit='diamonds')\n",
            "Card(rank='5', suit='hearts')\n",
            "Card(rank='5', suit='spades')\n",
            "Card(rank='6', suit='clubs')\n",
            "Card(rank='6', suit='diamonds')\n",
            "Card(rank='6', suit='hearts')\n",
            "Card(rank='6', suit='spades')\n",
            "Card(rank='7', suit='clubs')\n",
            "Card(rank='7', suit='diamonds')\n",
            "Card(rank='7', suit='hearts')\n",
            "Card(rank='7', suit='spades')\n",
            "Card(rank='8', suit='clubs')\n",
            "Card(rank='8', suit='diamonds')\n",
            "Card(rank='8', suit='hearts')\n",
            "Card(rank='8', suit='spades')\n",
            "Card(rank='9', suit='clubs')\n",
            "Card(rank='9', suit='diamonds')\n",
            "Card(rank='9', suit='hearts')\n",
            "Card(rank='9', suit='spades')\n",
            "Card(rank='10', suit='clubs')\n",
            "Card(rank='10', suit='diamonds')\n",
            "Card(rank='10', suit='hearts')\n",
            "Card(rank='10', suit='spades')\n",
            "Card(rank='J', suit='clubs')\n",
            "Card(rank='J', suit='diamonds')\n",
            "Card(rank='J', suit='hearts')\n",
            "Card(rank='J', suit='spades')\n",
            "Card(rank='Q', suit='clubs')\n",
            "Card(rank='Q', suit='diamonds')\n",
            "Card(rank='Q', suit='hearts')\n",
            "Card(rank='Q', suit='spades')\n",
            "Card(rank='K', suit='clubs')\n",
            "Card(rank='K', suit='diamonds')\n",
            "Card(rank='K', suit='hearts')\n",
            "Card(rank='K', suit='spades')\n",
            "Card(rank='A', suit='clubs')\n",
            "Card(rank='A', suit='diamonds')\n",
            "Card(rank='A', suit='hearts')\n",
            "Card(rank='A', suit='spades')\n"
          ],
          "name": "stdout"
        }
      ]
    }
  ]
}